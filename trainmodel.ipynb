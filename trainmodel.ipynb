import os
import numpy as np
import matplotlib.pyplot as plt
from sklearn.model_selection import train_test_split
from tensorflow.keras.preprocessing.image import load_img, img_to_array
from tensorflow.keras.utils import to_categorical
from tensorflow.keras.models import Sequential
from tensorflow.keras.layers import Conv2D, MaxPooling2D, Flatten, Dense, Dropout
from tensorflow.keras.optimizers import Adam
from google.colab import files

# Upload your dataset zip file
uploaded = files.upload()
# Unzip the dataset
!unzip dataset.zip -d dataset

# Define image size
img_size = (48, 48)

# Load images and labels
def load_images(folder):
    images = []
    labels = []
    for emotion in os.listdir(folder):
        if emotion.startswith('.'):
            continue
        label = os.path.join(folder, emotion)
        for filename in os.listdir(label):
            img = load_img(os.path.join(label, filename), target_size=img_size, grayscale=True)
            img_array = img_to_array(img)
            images.append(img_array)
            labels.append(emotion)
    return np.array(images), np.array(labels)

# Load and preprocess images
data_folder = 'dataset'
images, labels = load_images(data_folder)

# Normalize pixel values
images = images / 255.0

# Convert labels to categorical
label_dict = {'happy': 0, 'Sad': 1, 'Angry': 2}
labels = [label_dict[label] for label in labels]
labels = to_categorical(labels, num_classes=3)

# Build the CNN model
model = Sequential()
model.add(Conv2D(32, (3, 3), activation='relu', input_shape=(48, 48, 1)))
model.add(MaxPooling2D((2, 2)))
model.add(Conv2D(64, (3, 3), activation='relu'))
model.add(MaxPooling2D((2, 2)))
model.add(Flatten())
model.add(Dense(128, activation='relu'))
model.add(Dropout(0.5))
model.add(Dense(3, activation='softmax'))

# Compile the model
model.compile(optimizer=Adam(), loss='categorical_crossentropy', metrics=['accuracy'])

# Train the model
model.fit(X_train, y_train, epochs=10, validation_data=(X_test, y_test))

# Evaluate the model
loss, accuracy = model.evaluate(X_test, y_test)
print(f'Test Loss: {loss}, Test Accuracy: {accuracy}')

# Save the model
model.save('facial_expression_model.h5')
